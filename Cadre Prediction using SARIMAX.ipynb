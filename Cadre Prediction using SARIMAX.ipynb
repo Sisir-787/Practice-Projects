{
 "cells": [
  {
   "cell_type": "code",
   "execution_count": 1,
   "id": "28008a56",
   "metadata": {},
   "outputs": [],
   "source": [
    "import pandas as pd\n",
    "import numpy as np\n",
    "import matplotlib.pyplot as plt"
   ]
  },
  {
   "cell_type": "code",
   "execution_count": 2,
   "id": "ab55da77",
   "metadata": {},
   "outputs": [],
   "source": [
    "#loading dataset\n",
    "df=pd.read_excel('cadre.xlsx')"
   ]
  },
  {
   "cell_type": "code",
   "execution_count": 3,
   "id": "3a656adb",
   "metadata": {},
   "outputs": [
    {
     "data": {
      "text/html": [
       "<div>\n",
       "<style scoped>\n",
       "    .dataframe tbody tr th:only-of-type {\n",
       "        vertical-align: middle;\n",
       "    }\n",
       "\n",
       "    .dataframe tbody tr th {\n",
       "        vertical-align: top;\n",
       "    }\n",
       "\n",
       "    .dataframe thead th {\n",
       "        text-align: right;\n",
       "    }\n",
       "</style>\n",
       "<table border=\"1\" class=\"dataframe\">\n",
       "  <thead>\n",
       "    <tr style=\"text-align: right;\">\n",
       "      <th></th>\n",
       "      <th>Month</th>\n",
       "      <th>F</th>\n",
       "    </tr>\n",
       "  </thead>\n",
       "  <tbody>\n",
       "    <tr>\n",
       "      <th>0</th>\n",
       "      <td>2006-1</td>\n",
       "      <td>990.0</td>\n",
       "    </tr>\n",
       "    <tr>\n",
       "      <th>1</th>\n",
       "      <td>2006-2</td>\n",
       "      <td>990.0</td>\n",
       "    </tr>\n",
       "    <tr>\n",
       "      <th>2</th>\n",
       "      <td>2006-3</td>\n",
       "      <td>998.0</td>\n",
       "    </tr>\n",
       "    <tr>\n",
       "      <th>3</th>\n",
       "      <td>2006-4</td>\n",
       "      <td>998.0</td>\n",
       "    </tr>\n",
       "    <tr>\n",
       "      <th>4</th>\n",
       "      <td>2006-5</td>\n",
       "      <td>999.0</td>\n",
       "    </tr>\n",
       "  </tbody>\n",
       "</table>\n",
       "</div>"
      ],
      "text/plain": [
       "    Month      F\n",
       "0  2006-1  990.0\n",
       "1  2006-2  990.0\n",
       "2  2006-3  998.0\n",
       "3  2006-4  998.0\n",
       "4  2006-5  999.0"
      ]
     },
     "execution_count": 3,
     "metadata": {},
     "output_type": "execute_result"
    }
   ],
   "source": [
    "#display the first datapoints\n",
    "df.head()"
   ]
  },
  {
   "cell_type": "code",
   "execution_count": 4,
   "id": "489b7b8b",
   "metadata": {},
   "outputs": [],
   "source": [
    "#creating index column as date\n",
    "df.index=pd.to_datetime(df.Month)"
   ]
  },
  {
   "cell_type": "code",
   "execution_count": 5,
   "id": "5d183196",
   "metadata": {},
   "outputs": [
    {
     "data": {
      "text/plain": [
       "Month    0\n",
       "F        0\n",
       "dtype: int64"
      ]
     },
     "execution_count": 5,
     "metadata": {},
     "output_type": "execute_result"
    }
   ],
   "source": [
    "#checking the null values\n",
    "df.isnull().sum()"
   ]
  },
  {
   "cell_type": "code",
   "execution_count": 6,
   "id": "53bf13b5",
   "metadata": {},
   "outputs": [
    {
     "name": "stdout",
     "output_type": "stream",
     "text": [
      "<class 'pandas.core.frame.DataFrame'>\n",
      "DatetimeIndex: 204 entries, 2006-01-01 to 2022-12-01\n",
      "Data columns (total 2 columns):\n",
      " #   Column  Non-Null Count  Dtype  \n",
      "---  ------  --------------  -----  \n",
      " 0   Month   204 non-null    object \n",
      " 1   F       204 non-null    float64\n",
      "dtypes: float64(1), object(1)\n",
      "memory usage: 4.8+ KB\n"
     ]
    }
   ],
   "source": [
    "# checking the data information\n",
    "df.info()"
   ]
  },
  {
   "cell_type": "code",
   "execution_count": 7,
   "id": "392e30a2",
   "metadata": {},
   "outputs": [],
   "source": [
    "# converting the month column to datetime format\n",
    "df['Month']=pd.to_datetime(df['Month'])"
   ]
  },
  {
   "cell_type": "code",
   "execution_count": 8,
   "id": "69e4c16d",
   "metadata": {},
   "outputs": [
    {
     "name": "stdout",
     "output_type": "stream",
     "text": [
      "<class 'pandas.core.frame.DataFrame'>\n",
      "DatetimeIndex: 204 entries, 2006-01-01 to 2022-12-01\n",
      "Data columns (total 2 columns):\n",
      " #   Column  Non-Null Count  Dtype         \n",
      "---  ------  --------------  -----         \n",
      " 0   Month   204 non-null    datetime64[ns]\n",
      " 1   F       204 non-null    float64       \n",
      "dtypes: datetime64[ns](1), float64(1)\n",
      "memory usage: 4.8 KB\n"
     ]
    }
   ],
   "source": [
    "# checking after converting\n",
    "df.info()"
   ]
  },
  {
   "cell_type": "code",
   "execution_count": 9,
   "id": "5da4ad01",
   "metadata": {},
   "outputs": [],
   "source": [
    "#set the month column as the inc\n",
    "df.set_index('Month',inplace=True)"
   ]
  },
  {
   "cell_type": "code",
   "execution_count": 10,
   "id": "ec10dd37",
   "metadata": {},
   "outputs": [
    {
     "data": {
      "text/plain": [
       "[<matplotlib.lines.Line2D at 0x22c6268db70>]"
      ]
     },
     "execution_count": 10,
     "metadata": {},
     "output_type": "execute_result"
    },
    {
     "data": {
      "image/png": "[encoded data removed]",
      "text/plain": [
       "<Figure size 1152x504 with 1 Axes>"
      ]
     },
     "metadata": {
      "needs_background": "light"
     },
     "output_type": "display_data"
    }
   ],
   "source": [
    "# data Exploration\n",
    "plt.figure(figsize=(16,7))\n",
    "fig=plt.figure(1)\n",
    "am=fig.add_subplot(111)\n",
    "am.set_xlabel('Time Frame')\n",
    "am.set_ylabel('Cadre ')\n",
    "am.plot(df['F'])"
   ]
  },
  {
   "cell_type": "code",
   "execution_count": 11,
   "id": "197bd7dd",
   "metadata": {},
   "outputs": [
    {
     "data": {
      "text/plain": [
       "<AxesSubplot:xlabel='Month'>"
      ]
     },
     "execution_count": 11,
     "metadata": {},
     "output_type": "execute_result"
    },
    {
     "data": {
      "image/png": "[encoded data removed]",
      "text/plain": [
       "<Figure size 432x288 with 1 Axes>"
      ]
     },
     "metadata": {
      "needs_background": "light"
     },
     "output_type": "display_data"
    }
   ],
   "source": [
    "df.plot()"
   ]
  },
  {
   "cell_type": "code",
   "execution_count": 12,
   "id": "183ce91e",
   "metadata": {},
   "outputs": [
    {
     "data": {
      "text/html": [
       "<div>\n",
       "<style scoped>\n",
       "    .dataframe tbody tr th:only-of-type {\n",
       "        vertical-align: middle;\n",
       "    }\n",
       "\n",
       "    .dataframe tbody tr th {\n",
       "        vertical-align: top;\n",
       "    }\n",
       "\n",
       "    .dataframe thead th {\n",
       "        text-align: right;\n",
       "    }\n",
       "</style>\n",
       "<table border=\"1\" class=\"dataframe\">\n",
       "  <thead>\n",
       "    <tr style=\"text-align: right;\">\n",
       "      <th></th>\n",
       "      <th>F</th>\n",
       "    </tr>\n",
       "  </thead>\n",
       "  <tbody>\n",
       "    <tr>\n",
       "      <th>count</th>\n",
       "      <td>204.000000</td>\n",
       "    </tr>\n",
       "    <tr>\n",
       "      <th>mean</th>\n",
       "      <td>1032.133824</td>\n",
       "    </tr>\n",
       "    <tr>\n",
       "      <th>std</th>\n",
       "      <td>24.851609</td>\n",
       "    </tr>\n",
       "    <tr>\n",
       "      <th>min</th>\n",
       "      <td>990.000000</td>\n",
       "    </tr>\n",
       "    <tr>\n",
       "      <th>25%</th>\n",
       "      <td>1012.000000</td>\n",
       "    </tr>\n",
       "    <tr>\n",
       "      <th>50%</th>\n",
       "      <td>1022.500000</td>\n",
       "    </tr>\n",
       "    <tr>\n",
       "      <th>75%</th>\n",
       "      <td>1054.800000</td>\n",
       "    </tr>\n",
       "    <tr>\n",
       "      <th>max</th>\n",
       "      <td>1085.300000</td>\n",
       "    </tr>\n",
       "  </tbody>\n",
       "</table>\n",
       "</div>"
      ],
      "text/plain": [
       "                 F\n",
       "count   204.000000\n",
       "mean   1032.133824\n",
       "std      24.851609\n",
       "min     990.000000\n",
       "25%    1012.000000\n",
       "50%    1022.500000\n",
       "75%    1054.800000\n",
       "max    1085.300000"
      ]
     },
     "execution_count": 12,
     "metadata": {},
     "output_type": "execute_result"
    }
   ],
   "source": [
    "df.describe()"
   ]
  },
  {
   "cell_type": "code",
   "execution_count": 13,
   "id": "4e795a0b",
   "metadata": {},
   "outputs": [
    {
     "data": {
      "image/png": "[encoded data removed]",
      "text/plain": [
       "<Figure size 1152x504 with 1 Axes>"
      ]
     },
     "metadata": {
      "needs_background": "light"
     },
     "output_type": "display_data"
    }
   ],
   "source": [
    "# determining the stationarity\n",
    "rollmean = df.rolling(12).mean()\n",
    "rollstd= df.rolling(12).std()\n",
    "\n",
    "plt.figure(figsize=(16,7))\n",
    "fig=plt.figure(1)\n",
    "\n",
    "orig=plt.figure(1)\n",
    "\n",
    "#plot the rolling statistics\n",
    "orig=plt.plot(df,color='blue',label='Original')\n",
    "mean=plt.plot(rollmean,color='red',label='Rolling Mean')\n",
    "std=plt.plot(rollstd,color='black',label='Rolling std')\n",
    "\n",
    "plt.legend(loc='best')\n",
    "plt.title('Rolling Mean & Standard Deviation')\n",
    "plt.show(block=False)"
   ]
  },
  {
   "cell_type": "markdown",
   "id": "6d20f80d",
   "metadata": {},
   "source": [
    "Implementing Augmented Dickey-Fuller test\n"
   ]
  },
  {
   "cell_type": "code",
   "execution_count": 14,
   "id": "03c14bbe",
   "metadata": {},
   "outputs": [],
   "source": [
    "from statsmodels.tsa.stattools import adfuller"
   ]
  },
  {
   "cell_type": "code",
   "execution_count": 15,
   "id": "a65634ae",
   "metadata": {},
   "outputs": [],
   "source": [
    "passing_data=adfuller(df['F'])"
   ]
  },
  {
   "cell_type": "code",
   "execution_count": 16,
   "id": "cc79b2cd",
   "metadata": {},
   "outputs": [],
   "source": [
    "# Defining function Dickey Fuller test\n",
    "def adf_test(cadre):\n",
    "    result=adfuller(cadre)\n",
    "    labels=['Test parameters','p-value','#Lags Used','Dataset observations']\n",
    "    for value,label in zip(result,labels):\n",
    "        print(label+' : '+str(value))\n",
    "    if result[1] <= 0.05:\n",
    "        print(\"Dataset is stationary\")\n",
    "    else:\n",
    "        print('Dataset is non-stationary')"
   ]
  },
  {
   "cell_type": "code",
   "execution_count": 17,
   "id": "9fe076fb",
   "metadata": {},
   "outputs": [
    {
     "name": "stdout",
     "output_type": "stream",
     "text": [
      "Test parameters : 0.5668333469654614\n",
      "p-value : 0.9867689489651645\n",
      "#Lags Used : 2\n",
      "Dataset observations : 201\n",
      "Dataset is non-stationary\n"
     ]
    }
   ],
   "source": [
    "# Checking the stationary\n",
    "adf_test(df['F'])"
   ]
  },
  {
   "cell_type": "markdown",
   "id": "2ba06198",
   "metadata": {},
   "source": [
    "Found that the data is not stationary so we need to make it stationary"
   ]
  },
  {
   "cell_type": "code",
   "execution_count": 18,
   "id": "b53449f7",
   "metadata": {},
   "outputs": [],
   "source": [
    "#Implementing the differencing\n",
    "df['Differencing']=df['F']-df['F'].shift(1)"
   ]
  },
  {
   "cell_type": "code",
   "execution_count": 19,
   "id": "41e8f158",
   "metadata": {},
   "outputs": [
    {
     "name": "stdout",
     "output_type": "stream",
     "text": [
      "Test parameters : -13.115087776932281\n",
      "p-value : 1.6052553390234193e-24\n",
      "#Lags Used : 1\n",
      "Dataset observations : 201\n",
      "Dataset is stationary\n"
     ]
    }
   ],
   "source": [
    "# checking the stationary afeter droping the null values \n",
    "adf_test(df['Differencing'].dropna())"
   ]
  },
  {
   "cell_type": "code",
   "execution_count": 20,
   "id": "3d62d9a7",
   "metadata": {},
   "outputs": [
    {
     "data": {
      "text/plain": [
       "<AxesSubplot:xlabel='Month'>"
      ]
     },
     "execution_count": 20,
     "metadata": {},
     "output_type": "execute_result"
    },
    {
     "data": {
      "image/png": "[encoded data removed]",
      "text/plain": [
       "<Figure size 432x288 with 1 Axes>"
      ]
     },
     "metadata": {
      "needs_background": "light"
     },
     "output_type": "display_data"
    }
   ],
   "source": [
    "#plotting the new dataset\n",
    "df['Differencing'].plot()"
   ]
  },
  {
   "cell_type": "code",
   "execution_count": null,
   "id": "e67d84d4",
   "metadata": {},
   "outputs": [],
   "source": [
    "#Implementing the ARIMA Model\n",
    "# we need to find the p,d,q \n",
    "# Since we diffrentiated only once so d=1 , we need to find the p and q using \n",
    "# ACF plot(for q) and PACF plot (for p)"
   ]
  },
  {
   "cell_type": "code",
   "execution_count": 21,
   "id": "d253b61e",
   "metadata": {},
   "outputs": [],
   "source": [
    "from statsmodels.graphics.tsaplots import plot_acf,plot_pacf\n",
    "import statsmodels.api as sm"
   ]
  },
  {
   "cell_type": "code",
   "execution_count": 22,
   "id": "36886889",
   "metadata": {},
   "outputs": [
    {
     "data": {
      "text/plain": [
       "<Figure size 432x288 with 0 Axes>"
      ]
     },
     "metadata": {},
     "output_type": "display_data"
    }
   ],
   "source": [
    "plt.clf()\n",
    "fig.clf()"
   ]
  },
  {
   "cell_type": "code",
   "execution_count": 23,
   "id": "ba49e577",
   "metadata": {},
   "outputs": [],
   "source": [
    "# plotting the ACF\n",
    "ax1=fig.add_subplot(211)\n",
    "fig=sm.graphics.tsa.plot_acf(df['Differencing'].iloc[13:],lags=40,ax=ax1)"
   ]
  },
  {
   "cell_type": "markdown",
   "id": "807f8839",
   "metadata": {},
   "source": [
    "So we can consider q=2, as at point 2 its standing out , above cuts off the \n",
    "significance line (the blue shaded line )"
   ]
  },
  {
   "cell_type": "code",
   "execution_count": 24,
   "id": "750f2df9",
   "metadata": {},
   "outputs": [],
   "source": [
    "fig.clf()"
   ]
  },
  {
   "cell_type": "code",
   "execution_count": 25,
   "id": "1f860215",
   "metadata": {},
   "outputs": [
    {
     "data": {
      "image/png": "[encoded data removed]",
      "text/plain": [
       "<Figure size 1152x504 with 1 Axes>"
      ]
     },
     "execution_count": 25,
     "metadata": {},
     "output_type": "execute_result"
    }
   ],
   "source": [
    "# plotting the PACF\n",
    "ax2= fig.add_subplot(212)\n",
    "fig=sm.graphics.tsa.plot_pacf(df['Differencing'].iloc[13:],lags=40,ax=ax2)\n",
    "fig"
   ]
  },
  {
   "cell_type": "markdown",
   "id": "f40828a3",
   "metadata": {},
   "source": [
    "So we can consider p=2, as at point 2 its standing out , above cuts off the \n",
    "significance line (the blue shaded line )"
   ]
  },
  {
   "cell_type": "markdown",
   "id": "9be374df",
   "metadata": {},
   "source": [
    "so p=2,d=1,q=2"
   ]
  },
  {
   "cell_type": "code",
   "execution_count": 26,
   "id": "20ab9987",
   "metadata": {},
   "outputs": [],
   "source": [
    "#importing the ARIMA model\n",
    "from statsmodels.tsa.arima_model import ARIMA\n"
   ]
  },
  {
   "cell_type": "code",
   "execution_count": 27,
   "id": "810c7ac0",
   "metadata": {},
   "outputs": [
    {
     "name": "stderr",
     "output_type": "stream",
     "text": [
      "C:\\ProgramData\\Anaconda3\\lib\\site-packages\\statsmodels\\tsa\\arima_model.py:472: FutureWarning: \n",
      "statsmodels.tsa.arima_model.ARMA and statsmodels.tsa.arima_model.ARIMA have\n",
      "been deprecated in favor of statsmodels.tsa.arima.model.ARIMA (note the .\n",
      "between arima and model) and\n",
      "statsmodels.tsa.SARIMAX. These will be removed after the 0.12 release.\n",
      "\n",
      "statsmodels.tsa.arima.model.ARIMA makes use of the statespace framework and\n",
      "is both well tested and maintained.\n",
      "\n",
      "To silence this warning and continue using ARMA and ARIMA until they are\n",
      "removed, use:\n",
      "\n",
      "import warnings\n",
      "warnings.filterwarnings('ignore', 'statsmodels.tsa.arima_model.ARMA',\n",
      "                        FutureWarning)\n",
      "warnings.filterwarnings('ignore', 'statsmodels.tsa.arima_model.ARIMA',\n",
      "                        FutureWarning)\n",
      "\n",
      "  warnings.warn(ARIMA_DEPRECATION_WARN, FutureWarning)\n",
      "C:\\ProgramData\\Anaconda3\\lib\\site-packages\\statsmodels\\tsa\\base\\tsa_model.py:527: ValueWarning: No frequency information was provided, so inferred frequency MS will be used.\n",
      "  % freq, ValueWarning)\n",
      "C:\\ProgramData\\Anaconda3\\lib\\site-packages\\statsmodels\\tsa\\base\\tsa_model.py:527: ValueWarning: No frequency information was provided, so inferred frequency MS will be used.\n",
      "  % freq, ValueWarning)\n"
     ]
    }
   ],
   "source": [
    "# we initialize the model\n",
    "model=ARIMA(df['F'],order=(2,1,2))\n"
   ]
  },
  {
   "cell_type": "code",
   "execution_count": 28,
   "id": "f12cd4a3",
   "metadata": {},
   "outputs": [],
   "source": [
    "# Training the ARIMA Model\n",
    "arima_model=model.fit()"
   ]
  },
  {
   "cell_type": "code",
   "execution_count": 29,
   "id": "9ebb8fbd",
   "metadata": {},
   "outputs": [
    {
     "data": {
      "text/plain": [
       "<AxesSubplot:xlabel='Month'>"
      ]
     },
     "execution_count": 29,
     "metadata": {},
     "output_type": "execute_result"
    },
    {
     "data": {
      "image/png": "[encoded data removed]",
      "text/plain": [
       "<Figure size 864x576 with 1 Axes>"
      ]
     },
     "metadata": {
      "needs_background": "light"
     },
     "output_type": "display_data"
    }
   ],
   "source": [
    "df['forecast']=arima_model.predict(start=90,end=103,dynamic=True)\n",
    "df[['F','forecast']].plot(figsize=(12,8))"
   ]
  },
  {
   "cell_type": "markdown",
   "id": "aa377780",
   "metadata": {},
   "source": [
    "Our model is not performing well as there is big difference between actual and prediction. So we need to apply for SARIMA model"
   ]
  },
  {
   "cell_type": "code",
   "execution_count": 31,
   "id": "de75b24b",
   "metadata": {},
   "outputs": [
    {
     "name": "stderr",
     "output_type": "stream",
     "text": [
      "C:\\ProgramData\\Anaconda3\\lib\\site-packages\\statsmodels\\tsa\\base\\tsa_model.py:527: ValueWarning: No frequency information was provided, so inferred frequency MS will be used.\n",
      "  % freq, ValueWarning)\n",
      "C:\\ProgramData\\Anaconda3\\lib\\site-packages\\statsmodels\\tsa\\base\\tsa_model.py:527: ValueWarning: No frequency information was provided, so inferred frequency MS will be used.\n",
      "  % freq, ValueWarning)\n"
     ]
    }
   ],
   "source": [
    "# we initialize the SARIMA model\n",
    "model=sm.tsa.statespace.SARIMAX(df['F'],order=(2,1,2),seasonal_order=(2,1,2,12))\n"
   ]
  },
  {
   "cell_type": "code",
   "execution_count": 32,
   "id": "79333a5f",
   "metadata": {},
   "outputs": [],
   "source": [
    "# Training the model\n",
    "sarima_model=model.fit()"
   ]
  },
  {
   "cell_type": "code",
   "execution_count": 33,
   "id": "4c0dfa1a",
   "metadata": {},
   "outputs": [
    {
     "data": {
      "text/plain": [
       "<AxesSubplot:xlabel='Month'>"
      ]
     },
     "execution_count": 33,
     "metadata": {},
     "output_type": "execute_result"
    },
    {
     "data": {
      "image/png": "[encoded data removed]",
      "text/plain": [
       "<Figure size 864x576 with 1 Axes>"
      ]
     },
     "metadata": {
      "needs_background": "light"
     },
     "output_type": "display_data"
    }
   ],
   "source": [
    "df['forecast']=sarima_model.predict(start=90,end=103,dynamic=True)\n",
    "df[['F','forecast']].plot(figsize=(12,8))"
   ]
  }
 ],
 "metadata": {
  "kernelspec": {
   "display_name": "Python 3 (ipykernel)",
   "language": "python",
   "name": "python3"
  },
  "language_info": {
   "codemirror_mode": {
    "name": "ipython",
    "version": 3
   },
   "file_extension": ".py",
   "mimetype": "text/x-python",
   "name": "python",
   "nbconvert_exporter": "python",
   "pygments_lexer": "ipython3",
   "version": "3.7.1"
  }
 },
 "nbformat": 4,
 "nbformat_minor": 5
}
