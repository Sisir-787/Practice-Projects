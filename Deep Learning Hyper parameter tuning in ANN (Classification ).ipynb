{
 "cells": [
  {
   "cell_type": "code",
   "execution_count": 8,
   "id": "dcb4d3e5",
   "metadata": {},
   "outputs": [],
   "source": [
    "import numpy as np\n",
    "import matplotlib.pyplot as plt\n",
    "import pandas as pd\n"
   ]
  },
  {
   "cell_type": "code",
   "execution_count": 10,
   "id": "f0e62a4a",
   "metadata": {},
   "outputs": [
    {
     "data": {
      "text/html": [
       "<div>\n",
       "<style scoped>\n",
       "    .dataframe tbody tr th:only-of-type {\n",
       "        vertical-align: middle;\n",
       "    }\n",
       "\n",
       "    .dataframe tbody tr th {\n",
       "        vertical-align: top;\n",
       "    }\n",
       "\n",
       "    .dataframe thead th {\n",
       "        text-align: right;\n",
       "    }\n",
       "</style>\n",
       "<table border=\"1\" class=\"dataframe\">\n",
       "  <thead>\n",
       "    <tr style=\"text-align: right;\">\n",
       "      <th></th>\n",
       "      <th>RowNumber</th>\n",
       "      <th>CustomerId</th>\n",
       "      <th>Surname</th>\n",
       "      <th>CreditScore</th>\n",
       "      <th>Geography</th>\n",
       "      <th>Gender</th>\n",
       "      <th>Age</th>\n",
       "      <th>Tenure</th>\n",
       "      <th>Balance</th>\n",
       "      <th>NumOfProducts</th>\n",
       "      <th>HasCrCard</th>\n",
       "      <th>IsActiveMember</th>\n",
       "      <th>EstimatedSalary</th>\n",
       "      <th>Exited</th>\n",
       "    </tr>\n",
       "  </thead>\n",
       "  <tbody>\n",
       "    <tr>\n",
       "      <th>0</th>\n",
       "      <td>1</td>\n",
       "      <td>15634602</td>\n",
       "      <td>Hargrave</td>\n",
       "      <td>619</td>\n",
       "      <td>France</td>\n",
       "      <td>Female</td>\n",
       "      <td>42</td>\n",
       "      <td>2</td>\n",
       "      <td>0.00</td>\n",
       "      <td>1</td>\n",
       "      <td>1</td>\n",
       "      <td>1</td>\n",
       "      <td>101348.88</td>\n",
       "      <td>1</td>\n",
       "    </tr>\n",
       "    <tr>\n",
       "      <th>1</th>\n",
       "      <td>2</td>\n",
       "      <td>15647311</td>\n",
       "      <td>Hill</td>\n",
       "      <td>608</td>\n",
       "      <td>Spain</td>\n",
       "      <td>Female</td>\n",
       "      <td>41</td>\n",
       "      <td>1</td>\n",
       "      <td>83807.86</td>\n",
       "      <td>1</td>\n",
       "      <td>0</td>\n",
       "      <td>1</td>\n",
       "      <td>112542.58</td>\n",
       "      <td>0</td>\n",
       "    </tr>\n",
       "    <tr>\n",
       "      <th>2</th>\n",
       "      <td>3</td>\n",
       "      <td>15619304</td>\n",
       "      <td>Onio</td>\n",
       "      <td>502</td>\n",
       "      <td>France</td>\n",
       "      <td>Female</td>\n",
       "      <td>42</td>\n",
       "      <td>8</td>\n",
       "      <td>159660.80</td>\n",
       "      <td>3</td>\n",
       "      <td>1</td>\n",
       "      <td>0</td>\n",
       "      <td>113931.57</td>\n",
       "      <td>1</td>\n",
       "    </tr>\n",
       "    <tr>\n",
       "      <th>3</th>\n",
       "      <td>4</td>\n",
       "      <td>15701354</td>\n",
       "      <td>Boni</td>\n",
       "      <td>699</td>\n",
       "      <td>France</td>\n",
       "      <td>Female</td>\n",
       "      <td>39</td>\n",
       "      <td>1</td>\n",
       "      <td>0.00</td>\n",
       "      <td>2</td>\n",
       "      <td>0</td>\n",
       "      <td>0</td>\n",
       "      <td>93826.63</td>\n",
       "      <td>0</td>\n",
       "    </tr>\n",
       "    <tr>\n",
       "      <th>4</th>\n",
       "      <td>5</td>\n",
       "      <td>15737888</td>\n",
       "      <td>Mitchell</td>\n",
       "      <td>850</td>\n",
       "      <td>Spain</td>\n",
       "      <td>Female</td>\n",
       "      <td>43</td>\n",
       "      <td>2</td>\n",
       "      <td>125510.82</td>\n",
       "      <td>1</td>\n",
       "      <td>1</td>\n",
       "      <td>1</td>\n",
       "      <td>79084.10</td>\n",
       "      <td>0</td>\n",
       "    </tr>\n",
       "  </tbody>\n",
       "</table>\n",
       "</div>"
      ],
      "text/plain": [
       "   RowNumber  CustomerId   Surname  CreditScore Geography  Gender  Age  \\\n",
       "0          1    15634602  Hargrave          619    France  Female   42   \n",
       "1          2    15647311      Hill          608     Spain  Female   41   \n",
       "2          3    15619304      Onio          502    France  Female   42   \n",
       "3          4    15701354      Boni          699    France  Female   39   \n",
       "4          5    15737888  Mitchell          850     Spain  Female   43   \n",
       "\n",
       "   Tenure    Balance  NumOfProducts  HasCrCard  IsActiveMember  \\\n",
       "0       2       0.00              1          1               1   \n",
       "1       1   83807.86              1          0               1   \n",
       "2       8  159660.80              3          1               0   \n",
       "3       1       0.00              2          0               0   \n",
       "4       2  125510.82              1          1               1   \n",
       "\n",
       "   EstimatedSalary  Exited  \n",
       "0        101348.88       1  \n",
       "1        112542.58       0  \n",
       "2        113931.57       1  \n",
       "3         93826.63       0  \n",
       "4         79084.10       0  "
      ]
     },
     "execution_count": 10,
     "metadata": {},
     "output_type": "execute_result"
    }
   ],
   "source": [
    "dataset=pd.read_csv('Churn_Modelling.csv')\n",
    "dataset.head()"
   ]
  },
  {
   "cell_type": "code",
   "execution_count": 12,
   "id": "0319d0c6",
   "metadata": {},
   "outputs": [
    {
     "data": {
      "text/plain": [
       "(10000, 14)"
      ]
     },
     "execution_count": 12,
     "metadata": {},
     "output_type": "execute_result"
    }
   ],
   "source": [
    "dataset.shape"
   ]
  },
  {
   "cell_type": "code",
   "execution_count": 13,
   "id": "f4e60bce",
   "metadata": {},
   "outputs": [],
   "source": [
    "X=dataset.iloc[:,3:13]\n",
    "y=dataset.iloc[:,13]"
   ]
  },
  {
   "cell_type": "code",
   "execution_count": 14,
   "id": "e5c5ea17",
   "metadata": {},
   "outputs": [],
   "source": [
    "geography=pd.get_dummies(X['Geography'],drop_first=True)\n",
    "gender=pd.get_dummies(X['Gender'],drop_first=True)"
   ]
  },
  {
   "cell_type": "code",
   "execution_count": 15,
   "id": "71b490c3",
   "metadata": {},
   "outputs": [],
   "source": [
    "X=pd.concat([X,geography,gender],axis=1)"
   ]
  },
  {
   "cell_type": "code",
   "execution_count": 21,
   "id": "7d2bd000",
   "metadata": {},
   "outputs": [],
   "source": [
    "X=X.drop(['Geography','Gender'],axis=1)"
   ]
  },
  {
   "cell_type": "code",
   "execution_count": 22,
   "id": "8a450e2a",
   "metadata": {},
   "outputs": [],
   "source": [
    "from sklearn.model_selection import train_test_split\n",
    "X_train, X_test,y_train,y_test=train_test_split(X,y,test_size=0.2,random_state=0)"
   ]
  },
  {
   "cell_type": "code",
   "execution_count": 23,
   "id": "5544e04f",
   "metadata": {},
   "outputs": [
    {
     "name": "stdout",
     "output_type": "stream",
     "text": [
      "<class 'pandas.core.frame.DataFrame'>\n",
      "RangeIndex: 10000 entries, 0 to 9999\n",
      "Data columns (total 11 columns):\n",
      " #   Column           Non-Null Count  Dtype  \n",
      "---  ------           --------------  -----  \n",
      " 0   CreditScore      10000 non-null  int64  \n",
      " 1   Age              10000 non-null  int64  \n",
      " 2   Tenure           10000 non-null  int64  \n",
      " 3   Balance          10000 non-null  float64\n",
      " 4   NumOfProducts    10000 non-null  int64  \n",
      " 5   HasCrCard        10000 non-null  int64  \n",
      " 6   IsActiveMember   10000 non-null  int64  \n",
      " 7   EstimatedSalary  10000 non-null  float64\n",
      " 8   Germany          10000 non-null  uint8  \n",
      " 9   Spain            10000 non-null  uint8  \n",
      " 10  Male             10000 non-null  uint8  \n",
      "dtypes: float64(2), int64(6), uint8(3)\n",
      "memory usage: 654.4 KB\n"
     ]
    }
   ],
   "source": [
    "X.info()"
   ]
  },
  {
   "cell_type": "code",
   "execution_count": 24,
   "id": "430f2476",
   "metadata": {},
   "outputs": [],
   "source": [
    "from sklearn.preprocessing import StandardScaler\n",
    "sc=StandardScaler()\n",
    "X_train=sc.fit_transform(X_train)\n",
    "X_test=sc.transform(X_test)"
   ]
  },
  {
   "cell_type": "code",
   "execution_count": 26,
   "id": "5e556ff7",
   "metadata": {},
   "outputs": [],
   "source": [
    "from keras.wrappers.scikit_learn import KerasClassifier\n",
    "from sklearn.model_selection import GridSearchCV"
   ]
  },
  {
   "cell_type": "code",
   "execution_count": 35,
   "id": "e2c11392",
   "metadata": {},
   "outputs": [],
   "source": [
    "import keras\n",
    "from keras.models import Sequential \n",
    "from keras.layers import Dense, Activation, Embedding, Flatten, LeakyReLU, BatchNormalization, Dropout\n",
    "from keras.activations import relu, sigmoid\n",
    "\n"
   ]
  },
  {
   "cell_type": "code",
   "execution_count": 38,
   "id": "ea96da18",
   "metadata": {},
   "outputs": [],
   "source": [
    "def create_model(layers,activation):\n",
    "    model=Sequential()\n",
    "    for i, nodes in enumerate(layers):\n",
    "        if i==0:\n",
    "            model.add(Dense(nodes,input_dim=X_train.shape[1]))\n",
    "            model.add(Activation(activation))\n",
    "            model.add(Dropout(0.3))\n",
    "        else:\n",
    "            model.add(Dense(nodes))\n",
    "            model.add(Activation(activation))\n",
    "            model.add(Dropout(0.3))\n",
    "    model.add(Dense(units =1, kernel_initializer='glorot_uniform',activation='sigmoid'))\n",
    "    \n",
    "    model.compile(optimizer='adam',loss='binary_crossentropy',metrics=['accuracy'])\n",
    "    return model\n",
    "\n"
   ]
  },
  {
   "cell_type": "code",
   "execution_count": 39,
   "id": "3c17c579",
   "metadata": {},
   "outputs": [
    {
     "name": "stderr",
     "output_type": "stream",
     "text": [
      "C:\\ProgramData\\Anaconda3\\lib\\site-packages\\ipykernel_launcher.py:1: DeprecationWarning: KerasClassifier is deprecated, use Sci-Keras (https://github.com/adriangb/scikeras) instead. See https://www.adriangb.com/scikeras/stable/migration.html for help migrating.\n",
      "  \"\"\"Entry point for launching an IPython kernel.\n"
     ]
    }
   ],
   "source": [
    "model=KerasClassifier(build_fn=create_model,verbose=0)\n"
   ]
  },
  {
   "cell_type": "code",
   "execution_count": 40,
   "id": "d48ef9d9",
   "metadata": {},
   "outputs": [],
   "source": [
    "layers=[[20],[40,20],[45,30,15]]\n",
    "activations=['sigmoid','relu']\n",
    "param_grid=dict(layers=layers,activation=activations,batch_size=[128,256],epochs=[20,30,40])"
   ]
  },
  {
   "cell_type": "code",
   "execution_count": 41,
   "id": "ba47bb56",
   "metadata": {},
   "outputs": [],
   "source": [
    "grid=GridSearchCV(estimator=model, param_grid=param_grid,cv=5)\n",
    "grid_result=grid.fit(X_train,y_train)"
   ]
  },
  {
   "cell_type": "code",
   "execution_count": 42,
   "id": "3f7d1c40",
   "metadata": {},
   "outputs": [
    {
     "name": "stdout",
     "output_type": "stream",
     "text": [
      "0.8597500085830688 {'activation': 'relu', 'batch_size': 128, 'epochs': 40, 'layers': [45, 30, 15]}\n"
     ]
    }
   ],
   "source": [
    "print(grid_result.best_score_,grid_result.best_params_)"
   ]
  },
  {
   "cell_type": "code",
   "execution_count": 58,
   "id": "fe8e0316",
   "metadata": {},
   "outputs": [],
   "source": []
  },
  {
   "cell_type": "code",
   "execution_count": 59,
   "id": "d0fa2f17",
   "metadata": {},
   "outputs": [],
   "source": [
    "#initializing the ANN\n",
    "classifier=Sequential()\n"
   ]
  },
  {
   "cell_type": "code",
   "execution_count": 60,
   "id": "231036bc",
   "metadata": {},
   "outputs": [
    {
     "name": "stdout",
     "output_type": "stream",
     "text": [
      "Epoch 1/40\n",
      "447/447 [==============================] - 2s 3ms/step - loss: 0.4793 - accuracy: 0.8007 - val_loss: 0.4252 - val_accuracy: 0.8194\n",
      "Epoch 2/40\n",
      "447/447 [==============================] - 1s 2ms/step - loss: 0.3826 - accuracy: 0.8406 - val_loss: 0.3884 - val_accuracy: 0.8368\n",
      "Epoch 3/40\n",
      "447/447 [==============================] - 1s 3ms/step - loss: 0.3590 - accuracy: 0.8567 - val_loss: 0.3792 - val_accuracy: 0.8406\n",
      "Epoch 4/40\n",
      "447/447 [==============================] - 1s 3ms/step - loss: 0.3446 - accuracy: 0.8576 - val_loss: 0.3779 - val_accuracy: 0.8482\n",
      "Epoch 5/40\n",
      "447/447 [==============================] - 1s 3ms/step - loss: 0.3373 - accuracy: 0.8638 - val_loss: 0.3722 - val_accuracy: 0.8493\n",
      "Epoch 6/40\n",
      "447/447 [==============================] - 1s 2ms/step - loss: 0.3313 - accuracy: 0.8610 - val_loss: 0.3704 - val_accuracy: 0.8497\n",
      "Epoch 7/40\n",
      "447/447 [==============================] - 1s 2ms/step - loss: 0.3257 - accuracy: 0.8658 - val_loss: 0.3660 - val_accuracy: 0.8535\n",
      "Epoch 8/40\n",
      "447/447 [==============================] - 1s 3ms/step - loss: 0.3220 - accuracy: 0.8662 - val_loss: 0.3789 - val_accuracy: 0.8489\n",
      "Epoch 9/40\n",
      "447/447 [==============================] - 1s 2ms/step - loss: 0.3200 - accuracy: 0.8670 - val_loss: 0.3731 - val_accuracy: 0.8504\n",
      "Epoch 10/40\n",
      "447/447 [==============================] - 1s 2ms/step - loss: 0.3140 - accuracy: 0.8686 - val_loss: 0.3743 - val_accuracy: 0.8470\n",
      "Epoch 11/40\n",
      "447/447 [==============================] - 1s 2ms/step - loss: 0.3122 - accuracy: 0.8699 - val_loss: 0.3734 - val_accuracy: 0.8485\n",
      "Epoch 12/40\n",
      "447/447 [==============================] - 1s 2ms/step - loss: 0.3111 - accuracy: 0.8716 - val_loss: 0.3757 - val_accuracy: 0.8482\n",
      "Epoch 13/40\n",
      "447/447 [==============================] - 1s 2ms/step - loss: 0.3082 - accuracy: 0.8731 - val_loss: 0.3738 - val_accuracy: 0.8493\n",
      "Epoch 14/40\n",
      "447/447 [==============================] - 1s 2ms/step - loss: 0.3035 - accuracy: 0.8729 - val_loss: 0.3714 - val_accuracy: 0.8497\n",
      "Epoch 15/40\n",
      "447/447 [==============================] - 1s 2ms/step - loss: 0.2997 - accuracy: 0.8750 - val_loss: 0.3723 - val_accuracy: 0.8519\n",
      "Epoch 16/40\n",
      "447/447 [==============================] - 1s 2ms/step - loss: 0.2982 - accuracy: 0.8729 - val_loss: 0.3763 - val_accuracy: 0.8436\n",
      "Epoch 17/40\n",
      "447/447 [==============================] - 1s 2ms/step - loss: 0.2944 - accuracy: 0.8772 - val_loss: 0.3902 - val_accuracy: 0.8429\n",
      "Epoch 18/40\n",
      "447/447 [==============================] - 1s 2ms/step - loss: 0.2942 - accuracy: 0.8755 - val_loss: 0.3764 - val_accuracy: 0.8489\n",
      "Epoch 19/40\n",
      "447/447 [==============================] - 1s 2ms/step - loss: 0.2916 - accuracy: 0.8795 - val_loss: 0.3838 - val_accuracy: 0.8478\n",
      "Epoch 20/40\n",
      "447/447 [==============================] - 1s 2ms/step - loss: 0.2882 - accuracy: 0.8759 - val_loss: 0.3821 - val_accuracy: 0.8466\n",
      "Epoch 21/40\n",
      "447/447 [==============================] - 1s 2ms/step - loss: 0.2877 - accuracy: 0.8824 - val_loss: 0.3871 - val_accuracy: 0.8501\n",
      "Epoch 22/40\n",
      "447/447 [==============================] - 1s 2ms/step - loss: 0.2829 - accuracy: 0.8811 - val_loss: 0.3985 - val_accuracy: 0.8489\n",
      "Epoch 23/40\n",
      "447/447 [==============================] - 1s 2ms/step - loss: 0.2812 - accuracy: 0.8804 - val_loss: 0.4017 - val_accuracy: 0.8455\n",
      "Epoch 24/40\n",
      "447/447 [==============================] - 1s 2ms/step - loss: 0.2781 - accuracy: 0.8834 - val_loss: 0.3974 - val_accuracy: 0.8451\n",
      "Epoch 25/40\n",
      "447/447 [==============================] - 1s 3ms/step - loss: 0.2748 - accuracy: 0.8852 - val_loss: 0.3993 - val_accuracy: 0.8429\n",
      "Epoch 26/40\n",
      "447/447 [==============================] - 1s 3ms/step - loss: 0.2740 - accuracy: 0.8839 - val_loss: 0.4086 - val_accuracy: 0.8432\n",
      "Epoch 27/40\n",
      "447/447 [==============================] - 1s 2ms/step - loss: 0.2724 - accuracy: 0.8836 - val_loss: 0.4014 - val_accuracy: 0.8368\n",
      "Epoch 28/40\n",
      "447/447 [==============================] - 1s 3ms/step - loss: 0.2679 - accuracy: 0.8867 - val_loss: 0.4032 - val_accuracy: 0.8451\n",
      "Epoch 29/40\n",
      "447/447 [==============================] - 1s 3ms/step - loss: 0.2669 - accuracy: 0.8864 - val_loss: 0.4104 - val_accuracy: 0.8444\n",
      "Epoch 30/40\n",
      "447/447 [==============================] - 1s 2ms/step - loss: 0.2652 - accuracy: 0.8858 - val_loss: 0.4150 - val_accuracy: 0.8376\n",
      "Epoch 31/40\n",
      "447/447 [==============================] - 1s 2ms/step - loss: 0.2638 - accuracy: 0.8897 - val_loss: 0.4108 - val_accuracy: 0.8432\n",
      "Epoch 32/40\n",
      "447/447 [==============================] - 1s 3ms/step - loss: 0.2599 - accuracy: 0.8907 - val_loss: 0.4186 - val_accuracy: 0.8383\n",
      "Epoch 33/40\n",
      "447/447 [==============================] - 1s 3ms/step - loss: 0.2587 - accuracy: 0.8916 - val_loss: 0.4168 - val_accuracy: 0.8383\n",
      "Epoch 34/40\n",
      "447/447 [==============================] - 1s 2ms/step - loss: 0.2577 - accuracy: 0.8914 - val_loss: 0.4293 - val_accuracy: 0.8323\n",
      "Epoch 35/40\n",
      "447/447 [==============================] - 1s 3ms/step - loss: 0.2548 - accuracy: 0.8908 - val_loss: 0.4224 - val_accuracy: 0.8345\n",
      "Epoch 36/40\n",
      "447/447 [==============================] - 1s 2ms/step - loss: 0.2529 - accuracy: 0.8905 - val_loss: 0.4200 - val_accuracy: 0.8413\n",
      "Epoch 37/40\n",
      "447/447 [==============================] - 1s 3ms/step - loss: 0.2510 - accuracy: 0.8959 - val_loss: 0.4449 - val_accuracy: 0.8398\n",
      "Epoch 38/40\n",
      "447/447 [==============================] - 1s 2ms/step - loss: 0.2495 - accuracy: 0.8921 - val_loss: 0.4332 - val_accuracy: 0.8383\n",
      "Epoch 39/40\n",
      "447/447 [==============================] - 1s 2ms/step - loss: 0.2451 - accuracy: 0.8946 - val_loss: 0.4658 - val_accuracy: 0.8436\n",
      "Epoch 40/40\n",
      "447/447 [==============================] - 1s 2ms/step - loss: 0.2479 - accuracy: 0.8923 - val_loss: 0.4377 - val_accuracy: 0.8319\n"
     ]
    }
   ],
   "source": [
    "# Adding the input layer and first hidden layer\n",
    "classifier.add(Dense(units=45,kernel_initializer='he_uniform',activation='relu',input_dim=11))\n",
    "\n",
    "#add second hidden layers\n",
    "classifier.add(Dense(units=30,kernel_initializer='he_uniform',activation='relu'))\n",
    "\n",
    "#add third hidden layers\n",
    "classifier.add(Dense(units=15,kernel_initializer='he_uniform',activation='relu'))\n",
    "\n",
    "#add the output layers\n",
    "classifier.add(Dense(units=1,kernel_initializer='glorot_uniform',activation='sigmoid'))\n",
    "\n",
    "classifier.compile(optimizer='adam',loss='binary_crossentropy',metrics=['accuracy'])\n",
    "\n",
    "#fitting the ANN to the training set\n",
    "model_history=classifier.fit(X_train,y_train,validation_split=0.33,batch_size=12,epochs=40)"
   ]
  },
  {
   "cell_type": "code",
   "execution_count": 61,
   "id": "34dcb3fb",
   "metadata": {},
   "outputs": [
    {
     "name": "stdout",
     "output_type": "stream",
     "text": [
      "dict_keys(['loss', 'accuracy', 'val_loss', 'val_accuracy'])\n"
     ]
    }
   ],
   "source": [
    "print(model_history.history.keys())"
   ]
  },
  {
   "cell_type": "code",
   "execution_count": 62,
   "id": "4e4d35a2",
   "metadata": {},
   "outputs": [
    {
     "data": {
      "text/plain": [
       "[<matplotlib.lines.Line2D at 0x2117d189898>]"
      ]
     },
     "execution_count": 62,
     "metadata": {},
     "output_type": "execute_result"
    },
    {
     "data": {
      "image/png": "[encoded data removed]",
      "text/plain": [
       "<Figure size 432x288 with 1 Axes>"
      ]
     },
     "metadata": {
      "needs_background": "light"
     },
     "output_type": "display_data"
    }
   ],
   "source": [
    "plt.plot(model_history.history['accuracy'])"
   ]
  },
  {
   "cell_type": "code",
   "execution_count": 63,
   "id": "db67fd9d",
   "metadata": {},
   "outputs": [
    {
     "data": {
      "text/plain": [
       "[<matplotlib.lines.Line2D at 0x2117c7c22b0>]"
      ]
     },
     "execution_count": 63,
     "metadata": {},
     "output_type": "execute_result"
    },
    {
     "data": {
      "image/png": "[encoded data removed]",
      "text/plain": [
       "<Figure size 432x288 with 1 Axes>"
      ]
     },
     "metadata": {
      "needs_background": "light"
     },
     "output_type": "display_data"
    }
   ],
   "source": [
    "plt.plot(model_history.history['val_accuracy'])"
   ]
  },
  {
   "cell_type": "code",
   "execution_count": 64,
   "id": "e3ff1940",
   "metadata": {},
   "outputs": [
    {
     "data": {
      "text/plain": [
       "[<matplotlib.lines.Line2D at 0x2117d2b86d8>]"
      ]
     },
     "execution_count": 64,
     "metadata": {},
     "output_type": "execute_result"
    },
    {
     "data": {
      "image/png": "[encoded data removed]",
      "text/plain": [
       "<Figure size 432x288 with 1 Axes>"
      ]
     },
     "metadata": {
      "needs_background": "light"
     },
     "output_type": "display_data"
    }
   ],
   "source": [
    "plt.plot(model_history.history['loss'])"
   ]
  },
  {
   "cell_type": "code",
   "execution_count": 69,
   "id": "b6df1c33",
   "metadata": {},
   "outputs": [],
   "source": [
    "pred_y=grid.predict(X_test)\n",
    "y_pred=(pred_y>0.5)\n",
    "\n",
    "from sklearn.metrics import confusion_matrix,accuracy_score"
   ]
  },
  {
   "cell_type": "code",
   "execution_count": 70,
   "id": "cbd15e77",
   "metadata": {},
   "outputs": [
    {
     "data": {
      "text/plain": [
       "array([[1538,   57],\n",
       "       [ 211,  194]], dtype=int64)"
      ]
     },
     "execution_count": 70,
     "metadata": {},
     "output_type": "execute_result"
    }
   ],
   "source": [
    "cm= confusion_matrix(y_test,y_pred)\n",
    "cm"
   ]
  },
  {
   "cell_type": "code",
   "execution_count": 71,
   "id": "45d3f619",
   "metadata": {},
   "outputs": [
    {
     "data": {
      "text/plain": [
       "0.866"
      ]
     },
     "execution_count": 71,
     "metadata": {},
     "output_type": "execute_result"
    }
   ],
   "source": [
    "score=accuracy_score(y_pred,y_test)\n",
    "score"
   ]
  }
 ],
 "metadata": {
  "kernelspec": {
   "display_name": "Python 3 (ipykernel)",
   "language": "python",
   "name": "python3"
  },
  "language_info": {
   "codemirror_mode": {
    "name": "ipython",
    "version": 3
   },
   "file_extension": ".py",
   "mimetype": "text/x-python",
   "name": "python",
   "nbconvert_exporter": "python",
   "pygments_lexer": "ipython3",
   "version": "3.7.1"
  }
 },
 "nbformat": 4,
 "nbformat_minor": 5
}
