{
 "cells": [
  {
   "cell_type": "code",
   "execution_count": 1,
   "id": "f53771a7",
   "metadata": {},
   "outputs": [],
   "source": [
    "import numpy as np\n",
    "import matplotlib.pyplot as plt\n",
    "import pandas as pd\n"
   ]
  },
  {
   "cell_type": "code",
   "execution_count": 2,
   "id": "2b9ec5a0",
   "metadata": {},
   "outputs": [
    {
     "data": {
      "text/html": [
       "<div>\n",
       "<style scoped>\n",
       "    .dataframe tbody tr th:only-of-type {\n",
       "        vertical-align: middle;\n",
       "    }\n",
       "\n",
       "    .dataframe tbody tr th {\n",
       "        vertical-align: top;\n",
       "    }\n",
       "\n",
       "    .dataframe thead th {\n",
       "        text-align: right;\n",
       "    }\n",
       "</style>\n",
       "<table border=\"1\" class=\"dataframe\">\n",
       "  <thead>\n",
       "    <tr style=\"text-align: right;\">\n",
       "      <th></th>\n",
       "      <th>RowNumber</th>\n",
       "      <th>CustomerId</th>\n",
       "      <th>Surname</th>\n",
       "      <th>CreditScore</th>\n",
       "      <th>Geography</th>\n",
       "      <th>Gender</th>\n",
       "      <th>Age</th>\n",
       "      <th>Tenure</th>\n",
       "      <th>Balance</th>\n",
       "      <th>NumOfProducts</th>\n",
       "      <th>HasCrCard</th>\n",
       "      <th>IsActiveMember</th>\n",
       "      <th>EstimatedSalary</th>\n",
       "      <th>Exited</th>\n",
       "    </tr>\n",
       "  </thead>\n",
       "  <tbody>\n",
       "    <tr>\n",
       "      <th>0</th>\n",
       "      <td>1</td>\n",
       "      <td>15634602</td>\n",
       "      <td>Hargrave</td>\n",
       "      <td>619</td>\n",
       "      <td>France</td>\n",
       "      <td>Female</td>\n",
       "      <td>42</td>\n",
       "      <td>2</td>\n",
       "      <td>0.00</td>\n",
       "      <td>1</td>\n",
       "      <td>1</td>\n",
       "      <td>1</td>\n",
       "      <td>101348.88</td>\n",
       "      <td>1</td>\n",
       "    </tr>\n",
       "    <tr>\n",
       "      <th>1</th>\n",
       "      <td>2</td>\n",
       "      <td>15647311</td>\n",
       "      <td>Hill</td>\n",
       "      <td>608</td>\n",
       "      <td>Spain</td>\n",
       "      <td>Female</td>\n",
       "      <td>41</td>\n",
       "      <td>1</td>\n",
       "      <td>83807.86</td>\n",
       "      <td>1</td>\n",
       "      <td>0</td>\n",
       "      <td>1</td>\n",
       "      <td>112542.58</td>\n",
       "      <td>0</td>\n",
       "    </tr>\n",
       "    <tr>\n",
       "      <th>2</th>\n",
       "      <td>3</td>\n",
       "      <td>15619304</td>\n",
       "      <td>Onio</td>\n",
       "      <td>502</td>\n",
       "      <td>France</td>\n",
       "      <td>Female</td>\n",
       "      <td>42</td>\n",
       "      <td>8</td>\n",
       "      <td>159660.80</td>\n",
       "      <td>3</td>\n",
       "      <td>1</td>\n",
       "      <td>0</td>\n",
       "      <td>113931.57</td>\n",
       "      <td>1</td>\n",
       "    </tr>\n",
       "    <tr>\n",
       "      <th>3</th>\n",
       "      <td>4</td>\n",
       "      <td>15701354</td>\n",
       "      <td>Boni</td>\n",
       "      <td>699</td>\n",
       "      <td>France</td>\n",
       "      <td>Female</td>\n",
       "      <td>39</td>\n",
       "      <td>1</td>\n",
       "      <td>0.00</td>\n",
       "      <td>2</td>\n",
       "      <td>0</td>\n",
       "      <td>0</td>\n",
       "      <td>93826.63</td>\n",
       "      <td>0</td>\n",
       "    </tr>\n",
       "    <tr>\n",
       "      <th>4</th>\n",
       "      <td>5</td>\n",
       "      <td>15737888</td>\n",
       "      <td>Mitchell</td>\n",
       "      <td>850</td>\n",
       "      <td>Spain</td>\n",
       "      <td>Female</td>\n",
       "      <td>43</td>\n",
       "      <td>2</td>\n",
       "      <td>125510.82</td>\n",
       "      <td>1</td>\n",
       "      <td>1</td>\n",
       "      <td>1</td>\n",
       "      <td>79084.10</td>\n",
       "      <td>0</td>\n",
       "    </tr>\n",
       "  </tbody>\n",
       "</table>\n",
       "</div>"
      ],
      "text/plain": [
       "   RowNumber  CustomerId   Surname  CreditScore Geography  Gender  Age  \\\n",
       "0          1    15634602  Hargrave          619    France  Female   42   \n",
       "1          2    15647311      Hill          608     Spain  Female   41   \n",
       "2          3    15619304      Onio          502    France  Female   42   \n",
       "3          4    15701354      Boni          699    France  Female   39   \n",
       "4          5    15737888  Mitchell          850     Spain  Female   43   \n",
       "\n",
       "   Tenure    Balance  NumOfProducts  HasCrCard  IsActiveMember  \\\n",
       "0       2       0.00              1          1               1   \n",
       "1       1   83807.86              1          0               1   \n",
       "2       8  159660.80              3          1               0   \n",
       "3       1       0.00              2          0               0   \n",
       "4       2  125510.82              1          1               1   \n",
       "\n",
       "   EstimatedSalary  Exited  \n",
       "0        101348.88       1  \n",
       "1        112542.58       0  \n",
       "2        113931.57       1  \n",
       "3         93826.63       0  \n",
       "4         79084.10       0  "
      ]
     },
     "execution_count": 2,
     "metadata": {},
     "output_type": "execute_result"
    }
   ],
   "source": [
    "dataset=pd.read_csv('Churn_Modelling.csv')\n",
    "dataset.head()"
   ]
  },
  {
   "cell_type": "code",
   "execution_count": 3,
   "id": "ca8d96fc",
   "metadata": {},
   "outputs": [
    {
     "data": {
      "text/plain": [
       "(10000, 14)"
      ]
     },
     "execution_count": 3,
     "metadata": {},
     "output_type": "execute_result"
    }
   ],
   "source": [
    "dataset.shape"
   ]
  },
  {
   "cell_type": "code",
   "execution_count": 4,
   "id": "01a06a04",
   "metadata": {},
   "outputs": [],
   "source": [
    "X=dataset.iloc[:,3:13]\n",
    "y=dataset.iloc[:,13]"
   ]
  },
  {
   "cell_type": "code",
   "execution_count": 5,
   "id": "d5b3d42d",
   "metadata": {},
   "outputs": [],
   "source": [
    "geography=pd.get_dummies(X['Geography'],drop_first=True)\n",
    "gender=pd.get_dummies(X['Gender'],drop_first=True)"
   ]
  },
  {
   "cell_type": "code",
   "execution_count": 6,
   "id": "0d0126d1",
   "metadata": {},
   "outputs": [],
   "source": [
    "X=pd.concat([X,geography,gender],axis=1)"
   ]
  },
  {
   "cell_type": "code",
   "execution_count": 7,
   "id": "82a97221",
   "metadata": {},
   "outputs": [],
   "source": [
    "X=X.drop(['Geography','Gender'],axis=1)"
   ]
  },
  {
   "cell_type": "code",
   "execution_count": 8,
   "id": "56b144a8",
   "metadata": {},
   "outputs": [],
   "source": [
    "from sklearn.model_selection import train_test_split\n",
    "X_train, X_test,y_train,y_test=train_test_split(X,y,test_size=0.2,random_state=0)"
   ]
  },
  {
   "cell_type": "code",
   "execution_count": 9,
   "id": "64cf13da",
   "metadata": {},
   "outputs": [
    {
     "name": "stdout",
     "output_type": "stream",
     "text": [
      "<class 'pandas.core.frame.DataFrame'>\n",
      "RangeIndex: 10000 entries, 0 to 9999\n",
      "Data columns (total 11 columns):\n",
      " #   Column           Non-Null Count  Dtype  \n",
      "---  ------           --------------  -----  \n",
      " 0   CreditScore      10000 non-null  int64  \n",
      " 1   Age              10000 non-null  int64  \n",
      " 2   Tenure           10000 non-null  int64  \n",
      " 3   Balance          10000 non-null  float64\n",
      " 4   NumOfProducts    10000 non-null  int64  \n",
      " 5   HasCrCard        10000 non-null  int64  \n",
      " 6   IsActiveMember   10000 non-null  int64  \n",
      " 7   EstimatedSalary  10000 non-null  float64\n",
      " 8   Germany          10000 non-null  uint8  \n",
      " 9   Spain            10000 non-null  uint8  \n",
      " 10  Male             10000 non-null  uint8  \n",
      "dtypes: float64(2), int64(6), uint8(3)\n",
      "memory usage: 654.4 KB\n"
     ]
    }
   ],
   "source": [
    "X.info()"
   ]
  },
  {
   "cell_type": "code",
   "execution_count": 10,
   "id": "60c80769",
   "metadata": {},
   "outputs": [],
   "source": [
    "from sklearn.preprocessing import StandardScaler\n",
    "sc=StandardScaler()\n",
    "X_train=sc.fit_transform(X_train)\n",
    "X_test=sc.transform(X_test)"
   ]
  },
  {
   "cell_type": "code",
   "execution_count": 11,
   "id": "5dcdc7b3",
   "metadata": {},
   "outputs": [],
   "source": [
    "import keras\n",
    "from keras.models import Sequential\n",
    "from keras.layers import Dense\n",
    "from keras.layers import LeakyReLU,PReLU,ELU\n",
    "from keras.layers import Dropout"
   ]
  },
  {
   "cell_type": "code",
   "execution_count": 12,
   "id": "5f3e09a1",
   "metadata": {},
   "outputs": [],
   "source": [
    "# initializing the ANN\n",
    "classifier= Sequential()\n"
   ]
  },
  {
   "cell_type": "code",
   "execution_count": 13,
   "id": "d5a19737",
   "metadata": {},
   "outputs": [
    {
     "name": "stdout",
     "output_type": "stream",
     "text": [
      "Epoch 1/100\n",
      "536/536 [==============================] - 3s 3ms/step - loss: 0.6718 - accuracy: 0.6740 - val_loss: 0.5919 - val_accuracy: 0.7959\n",
      "Epoch 2/100\n",
      "536/536 [==============================] - 1s 3ms/step - loss: 0.5542 - accuracy: 0.7962 - val_loss: 0.5140 - val_accuracy: 0.7955\n",
      "Epoch 3/100\n",
      "536/536 [==============================] - 1s 2ms/step - loss: 0.4792 - accuracy: 0.7962 - val_loss: 0.4616 - val_accuracy: 0.7955\n",
      "Epoch 4/100\n",
      "536/536 [==============================] - 2s 3ms/step - loss: 0.4430 - accuracy: 0.7962 - val_loss: 0.4442 - val_accuracy: 0.7959\n",
      "Epoch 5/100\n",
      "536/536 [==============================] - 2s 3ms/step - loss: 0.4305 - accuracy: 0.8022 - val_loss: 0.4375 - val_accuracy: 0.8035\n",
      "Epoch 6/100\n",
      "536/536 [==============================] - 1s 3ms/step - loss: 0.4237 - accuracy: 0.8099 - val_loss: 0.4326 - val_accuracy: 0.8031\n",
      "Epoch 7/100\n",
      "536/536 [==============================] - 1s 2ms/step - loss: 0.4170 - accuracy: 0.8162 - val_loss: 0.4287 - val_accuracy: 0.8118\n",
      "Epoch 8/100\n",
      "536/536 [==============================] - 1s 3ms/step - loss: 0.4113 - accuracy: 0.8212 - val_loss: 0.4240 - val_accuracy: 0.8133\n",
      "Epoch 9/100\n",
      "536/536 [==============================] - 1s 3ms/step - loss: 0.4055 - accuracy: 0.8274 - val_loss: 0.4197 - val_accuracy: 0.8164\n",
      "Epoch 10/100\n",
      "536/536 [==============================] - 2s 3ms/step - loss: 0.3994 - accuracy: 0.8302 - val_loss: 0.4155 - val_accuracy: 0.8201\n",
      "Epoch 11/100\n",
      "536/536 [==============================] - 1s 3ms/step - loss: 0.3940 - accuracy: 0.8337 - val_loss: 0.4123 - val_accuracy: 0.8232\n",
      "Epoch 12/100\n",
      "536/536 [==============================] - 2s 3ms/step - loss: 0.3881 - accuracy: 0.8349 - val_loss: 0.4087 - val_accuracy: 0.8258\n",
      "Epoch 13/100\n",
      "536/536 [==============================] - 2s 3ms/step - loss: 0.3836 - accuracy: 0.8365 - val_loss: 0.4057 - val_accuracy: 0.8273\n",
      "Epoch 14/100\n",
      "536/536 [==============================] - 2s 3ms/step - loss: 0.3799 - accuracy: 0.8369 - val_loss: 0.4027 - val_accuracy: 0.8300\n",
      "Epoch 15/100\n",
      "536/536 [==============================] - 1s 2ms/step - loss: 0.3760 - accuracy: 0.8384 - val_loss: 0.4004 - val_accuracy: 0.8330\n",
      "Epoch 16/100\n",
      "536/536 [==============================] - 1s 2ms/step - loss: 0.3733 - accuracy: 0.8429 - val_loss: 0.3983 - val_accuracy: 0.8326\n",
      "Epoch 17/100\n",
      "536/536 [==============================] - 1s 2ms/step - loss: 0.3709 - accuracy: 0.8427 - val_loss: 0.3962 - val_accuracy: 0.8323\n",
      "Epoch 18/100\n",
      "536/536 [==============================] - 1s 3ms/step - loss: 0.3686 - accuracy: 0.8434 - val_loss: 0.3955 - val_accuracy: 0.8323\n",
      "Epoch 19/100\n",
      "536/536 [==============================] - 1s 2ms/step - loss: 0.3666 - accuracy: 0.8416 - val_loss: 0.3929 - val_accuracy: 0.8360\n",
      "Epoch 20/100\n",
      "536/536 [==============================] - 1s 3ms/step - loss: 0.3645 - accuracy: 0.8433 - val_loss: 0.3918 - val_accuracy: 0.8345\n",
      "Epoch 21/100\n",
      "536/536 [==============================] - 1s 3ms/step - loss: 0.3632 - accuracy: 0.8457 - val_loss: 0.3905 - val_accuracy: 0.8368\n",
      "Epoch 22/100\n",
      "536/536 [==============================] - 1s 2ms/step - loss: 0.3613 - accuracy: 0.8477 - val_loss: 0.3889 - val_accuracy: 0.8406\n",
      "Epoch 23/100\n",
      "536/536 [==============================] - 2s 3ms/step - loss: 0.3599 - accuracy: 0.8481 - val_loss: 0.3876 - val_accuracy: 0.8410\n",
      "Epoch 24/100\n",
      "536/536 [==============================] - 1s 3ms/step - loss: 0.3584 - accuracy: 0.8485 - val_loss: 0.3852 - val_accuracy: 0.8421\n",
      "Epoch 25/100\n",
      "536/536 [==============================] - 1s 3ms/step - loss: 0.3565 - accuracy: 0.8500 - val_loss: 0.3843 - val_accuracy: 0.8421\n",
      "Epoch 26/100\n",
      "536/536 [==============================] - 1s 2ms/step - loss: 0.3554 - accuracy: 0.8485 - val_loss: 0.3827 - val_accuracy: 0.8432\n",
      "Epoch 27/100\n",
      "536/536 [==============================] - 1s 2ms/step - loss: 0.3535 - accuracy: 0.8515 - val_loss: 0.3816 - val_accuracy: 0.8463\n",
      "Epoch 28/100\n",
      "536/536 [==============================] - 1s 2ms/step - loss: 0.3527 - accuracy: 0.8520 - val_loss: 0.3806 - val_accuracy: 0.8448\n",
      "Epoch 29/100\n",
      "536/536 [==============================] - 1s 2ms/step - loss: 0.3510 - accuracy: 0.8528 - val_loss: 0.3790 - val_accuracy: 0.8448\n",
      "Epoch 30/100\n",
      "536/536 [==============================] - 1s 2ms/step - loss: 0.3499 - accuracy: 0.8524 - val_loss: 0.3784 - val_accuracy: 0.8466\n",
      "Epoch 31/100\n",
      "536/536 [==============================] - 1s 2ms/step - loss: 0.3486 - accuracy: 0.8530 - val_loss: 0.3772 - val_accuracy: 0.8474\n",
      "Epoch 32/100\n",
      "536/536 [==============================] - 1s 2ms/step - loss: 0.3478 - accuracy: 0.8550 - val_loss: 0.3772 - val_accuracy: 0.8440\n",
      "Epoch 33/100\n",
      "536/536 [==============================] - 1s 2ms/step - loss: 0.3467 - accuracy: 0.8546 - val_loss: 0.3749 - val_accuracy: 0.8489\n",
      "Epoch 34/100\n",
      "536/536 [==============================] - 1s 2ms/step - loss: 0.3458 - accuracy: 0.8535 - val_loss: 0.3742 - val_accuracy: 0.8489\n",
      "Epoch 35/100\n",
      "536/536 [==============================] - 1s 2ms/step - loss: 0.3449 - accuracy: 0.8561 - val_loss: 0.3731 - val_accuracy: 0.8497\n",
      "Epoch 36/100\n",
      "536/536 [==============================] - 1s 2ms/step - loss: 0.3446 - accuracy: 0.8580 - val_loss: 0.3738 - val_accuracy: 0.8478\n",
      "Epoch 37/100\n",
      "536/536 [==============================] - 1s 2ms/step - loss: 0.3441 - accuracy: 0.8595 - val_loss: 0.3726 - val_accuracy: 0.8501\n",
      "Epoch 38/100\n",
      "536/536 [==============================] - 1s 2ms/step - loss: 0.3434 - accuracy: 0.8582 - val_loss: 0.3720 - val_accuracy: 0.8504\n",
      "Epoch 39/100\n",
      "536/536 [==============================] - 1s 2ms/step - loss: 0.3429 - accuracy: 0.8587 - val_loss: 0.3713 - val_accuracy: 0.8478\n",
      "Epoch 40/100\n",
      "536/536 [==============================] - 1s 3ms/step - loss: 0.3421 - accuracy: 0.8580 - val_loss: 0.3722 - val_accuracy: 0.8451\n",
      "Epoch 41/100\n",
      "536/536 [==============================] - 1s 2ms/step - loss: 0.3421 - accuracy: 0.8587 - val_loss: 0.3707 - val_accuracy: 0.8463\n",
      "Epoch 42/100\n",
      "536/536 [==============================] - 1s 2ms/step - loss: 0.3413 - accuracy: 0.8615 - val_loss: 0.3685 - val_accuracy: 0.8474\n",
      "Epoch 43/100\n",
      "536/536 [==============================] - 1s 2ms/step - loss: 0.3406 - accuracy: 0.8627 - val_loss: 0.3680 - val_accuracy: 0.8466\n",
      "Epoch 44/100\n",
      "536/536 [==============================] - 1s 2ms/step - loss: 0.3401 - accuracy: 0.8621 - val_loss: 0.3682 - val_accuracy: 0.8463\n",
      "Epoch 45/100\n",
      "536/536 [==============================] - 1s 2ms/step - loss: 0.3396 - accuracy: 0.8621 - val_loss: 0.3665 - val_accuracy: 0.8493\n",
      "Epoch 46/100\n",
      "536/536 [==============================] - 1s 2ms/step - loss: 0.3386 - accuracy: 0.8634 - val_loss: 0.3669 - val_accuracy: 0.8501\n",
      "Epoch 47/100\n",
      "536/536 [==============================] - 1s 2ms/step - loss: 0.3381 - accuracy: 0.8621 - val_loss: 0.3659 - val_accuracy: 0.8504\n",
      "Epoch 48/100\n",
      "536/536 [==============================] - 1s 2ms/step - loss: 0.3374 - accuracy: 0.8615 - val_loss: 0.3677 - val_accuracy: 0.8489\n",
      "Epoch 49/100\n",
      "536/536 [==============================] - 1s 2ms/step - loss: 0.3377 - accuracy: 0.8642 - val_loss: 0.3654 - val_accuracy: 0.8493\n",
      "Epoch 50/100\n",
      "536/536 [==============================] - 1s 2ms/step - loss: 0.3371 - accuracy: 0.8627 - val_loss: 0.3659 - val_accuracy: 0.8497\n",
      "Epoch 51/100\n",
      "536/536 [==============================] - 1s 2ms/step - loss: 0.3366 - accuracy: 0.8634 - val_loss: 0.3662 - val_accuracy: 0.8501\n",
      "Epoch 52/100\n",
      "536/536 [==============================] - 1s 2ms/step - loss: 0.3368 - accuracy: 0.8628 - val_loss: 0.3655 - val_accuracy: 0.8519\n",
      "Epoch 53/100\n",
      "536/536 [==============================] - 1s 2ms/step - loss: 0.3363 - accuracy: 0.8623 - val_loss: 0.3651 - val_accuracy: 0.8489\n",
      "Epoch 54/100\n",
      "536/536 [==============================] - 1s 2ms/step - loss: 0.3362 - accuracy: 0.8625 - val_loss: 0.3647 - val_accuracy: 0.8516\n",
      "Epoch 55/100\n",
      "536/536 [==============================] - 1s 2ms/step - loss: 0.3356 - accuracy: 0.8623 - val_loss: 0.3642 - val_accuracy: 0.8519\n",
      "Epoch 56/100\n",
      "536/536 [==============================] - 1s 3ms/step - loss: 0.3350 - accuracy: 0.8645 - val_loss: 0.3655 - val_accuracy: 0.8485\n",
      "Epoch 57/100\n",
      "536/536 [==============================] - 1s 2ms/step - loss: 0.3352 - accuracy: 0.8632 - val_loss: 0.3656 - val_accuracy: 0.8512\n"
     ]
    },
    {
     "name": "stdout",
     "output_type": "stream",
     "text": [
      "Epoch 58/100\n",
      "536/536 [==============================] - 1s 2ms/step - loss: 0.3349 - accuracy: 0.8664 - val_loss: 0.3648 - val_accuracy: 0.8489\n",
      "Epoch 59/100\n",
      "536/536 [==============================] - 1s 2ms/step - loss: 0.3346 - accuracy: 0.8643 - val_loss: 0.3641 - val_accuracy: 0.8519\n",
      "Epoch 60/100\n",
      "536/536 [==============================] - 1s 3ms/step - loss: 0.3348 - accuracy: 0.8625 - val_loss: 0.3643 - val_accuracy: 0.8527\n",
      "Epoch 61/100\n",
      "536/536 [==============================] - 1s 3ms/step - loss: 0.3349 - accuracy: 0.8628 - val_loss: 0.3642 - val_accuracy: 0.8519\n",
      "Epoch 62/100\n",
      "536/536 [==============================] - 1s 3ms/step - loss: 0.3351 - accuracy: 0.8632 - val_loss: 0.3635 - val_accuracy: 0.8508\n",
      "Epoch 63/100\n",
      "536/536 [==============================] - 1s 3ms/step - loss: 0.3338 - accuracy: 0.8643 - val_loss: 0.3638 - val_accuracy: 0.8497\n",
      "Epoch 64/100\n",
      "536/536 [==============================] - 2s 3ms/step - loss: 0.3341 - accuracy: 0.8636 - val_loss: 0.3632 - val_accuracy: 0.8531\n",
      "Epoch 65/100\n",
      "536/536 [==============================] - 1s 3ms/step - loss: 0.3339 - accuracy: 0.8656 - val_loss: 0.3622 - val_accuracy: 0.8523\n",
      "Epoch 66/100\n",
      "536/536 [==============================] - 1s 3ms/step - loss: 0.3335 - accuracy: 0.8636 - val_loss: 0.3630 - val_accuracy: 0.8557\n",
      "Epoch 67/100\n",
      "536/536 [==============================] - 1s 3ms/step - loss: 0.3341 - accuracy: 0.8634 - val_loss: 0.3617 - val_accuracy: 0.8535\n",
      "Epoch 68/100\n",
      "536/536 [==============================] - 2s 3ms/step - loss: 0.3336 - accuracy: 0.8656 - val_loss: 0.3621 - val_accuracy: 0.8493\n",
      "Epoch 69/100\n",
      "536/536 [==============================] - 2s 3ms/step - loss: 0.3335 - accuracy: 0.8636 - val_loss: 0.3626 - val_accuracy: 0.8504\n",
      "Epoch 70/100\n",
      "536/536 [==============================] - 1s 3ms/step - loss: 0.3332 - accuracy: 0.8643 - val_loss: 0.3629 - val_accuracy: 0.8516\n",
      "Epoch 71/100\n",
      "536/536 [==============================] - 1s 3ms/step - loss: 0.3334 - accuracy: 0.8655 - val_loss: 0.3629 - val_accuracy: 0.8516\n",
      "Epoch 72/100\n",
      "536/536 [==============================] - 1s 3ms/step - loss: 0.3328 - accuracy: 0.8645 - val_loss: 0.3634 - val_accuracy: 0.8501\n",
      "Epoch 73/100\n",
      "536/536 [==============================] - 1s 3ms/step - loss: 0.3335 - accuracy: 0.8628 - val_loss: 0.3627 - val_accuracy: 0.8497\n",
      "Epoch 74/100\n",
      "536/536 [==============================] - 1s 3ms/step - loss: 0.3332 - accuracy: 0.8636 - val_loss: 0.3612 - val_accuracy: 0.8523\n",
      "Epoch 75/100\n",
      "536/536 [==============================] - 1s 3ms/step - loss: 0.3329 - accuracy: 0.8630 - val_loss: 0.3628 - val_accuracy: 0.8516\n",
      "Epoch 76/100\n",
      "536/536 [==============================] - 1s 3ms/step - loss: 0.3327 - accuracy: 0.8632 - val_loss: 0.3615 - val_accuracy: 0.8516\n",
      "Epoch 77/100\n",
      "536/536 [==============================] - 1s 3ms/step - loss: 0.3329 - accuracy: 0.8651 - val_loss: 0.3615 - val_accuracy: 0.8523\n",
      "Epoch 78/100\n",
      "536/536 [==============================] - 1s 3ms/step - loss: 0.3326 - accuracy: 0.8655 - val_loss: 0.3611 - val_accuracy: 0.8508\n",
      "Epoch 79/100\n",
      "536/536 [==============================] - 1s 3ms/step - loss: 0.3319 - accuracy: 0.8653 - val_loss: 0.3618 - val_accuracy: 0.8531\n",
      "Epoch 80/100\n",
      "536/536 [==============================] - 1s 3ms/step - loss: 0.3324 - accuracy: 0.8634 - val_loss: 0.3624 - val_accuracy: 0.8497\n",
      "Epoch 81/100\n",
      "536/536 [==============================] - 1s 3ms/step - loss: 0.3326 - accuracy: 0.8664 - val_loss: 0.3616 - val_accuracy: 0.8519\n",
      "Epoch 82/100\n",
      "536/536 [==============================] - 1s 3ms/step - loss: 0.3320 - accuracy: 0.8645 - val_loss: 0.3607 - val_accuracy: 0.8516\n",
      "Epoch 83/100\n",
      "536/536 [==============================] - 1s 3ms/step - loss: 0.3320 - accuracy: 0.8664 - val_loss: 0.3604 - val_accuracy: 0.8523\n",
      "Epoch 84/100\n",
      "536/536 [==============================] - 1s 3ms/step - loss: 0.3319 - accuracy: 0.8638 - val_loss: 0.3614 - val_accuracy: 0.8516\n",
      "Epoch 85/100\n",
      "536/536 [==============================] - 1s 3ms/step - loss: 0.3317 - accuracy: 0.8647 - val_loss: 0.3625 - val_accuracy: 0.8489\n",
      "Epoch 86/100\n",
      "536/536 [==============================] - 1s 3ms/step - loss: 0.3312 - accuracy: 0.8649 - val_loss: 0.3624 - val_accuracy: 0.8527\n",
      "Epoch 87/100\n",
      "536/536 [==============================] - 2s 3ms/step - loss: 0.3313 - accuracy: 0.8628 - val_loss: 0.3596 - val_accuracy: 0.8516\n",
      "Epoch 88/100\n",
      "536/536 [==============================] - 1s 2ms/step - loss: 0.3313 - accuracy: 0.8645 - val_loss: 0.3622 - val_accuracy: 0.8489\n",
      "Epoch 89/100\n",
      "536/536 [==============================] - 1s 2ms/step - loss: 0.3313 - accuracy: 0.8645 - val_loss: 0.3606 - val_accuracy: 0.8516\n",
      "Epoch 90/100\n",
      "536/536 [==============================] - 1s 2ms/step - loss: 0.3310 - accuracy: 0.8623 - val_loss: 0.3607 - val_accuracy: 0.8493\n",
      "Epoch 91/100\n",
      "536/536 [==============================] - 1s 2ms/step - loss: 0.3306 - accuracy: 0.8642 - val_loss: 0.3594 - val_accuracy: 0.8546\n",
      "Epoch 92/100\n",
      "536/536 [==============================] - 1s 2ms/step - loss: 0.3313 - accuracy: 0.8643 - val_loss: 0.3606 - val_accuracy: 0.8497\n",
      "Epoch 93/100\n",
      "536/536 [==============================] - 1s 3ms/step - loss: 0.3310 - accuracy: 0.8649 - val_loss: 0.3600 - val_accuracy: 0.8531\n",
      "Epoch 94/100\n",
      "536/536 [==============================] - 1s 3ms/step - loss: 0.3309 - accuracy: 0.8645 - val_loss: 0.3593 - val_accuracy: 0.8523\n",
      "Epoch 95/100\n",
      "536/536 [==============================] - 1s 3ms/step - loss: 0.3302 - accuracy: 0.8651 - val_loss: 0.3611 - val_accuracy: 0.8497\n",
      "Epoch 96/100\n",
      "536/536 [==============================] - 2s 3ms/step - loss: 0.3307 - accuracy: 0.8651 - val_loss: 0.3599 - val_accuracy: 0.8512\n",
      "Epoch 97/100\n",
      "536/536 [==============================] - 1s 3ms/step - loss: 0.3304 - accuracy: 0.8658 - val_loss: 0.3599 - val_accuracy: 0.8519\n",
      "Epoch 98/100\n",
      "536/536 [==============================] - 1s 2ms/step - loss: 0.3306 - accuracy: 0.8651 - val_loss: 0.3594 - val_accuracy: 0.8497\n",
      "Epoch 99/100\n",
      "536/536 [==============================] - 1s 2ms/step - loss: 0.3306 - accuracy: 0.8647 - val_loss: 0.3582 - val_accuracy: 0.8546\n",
      "Epoch 100/100\n",
      "536/536 [==============================] - 1s 2ms/step - loss: 0.3302 - accuracy: 0.8656 - val_loss: 0.3589 - val_accuracy: 0.8501\n"
     ]
    }
   ],
   "source": [
    "# Adding the input layer and first hidden layer\n",
    "classifier.add(Dense(units=6, kernel_initializer='he_uniform',activation='relu',input_dim=11))\n",
    "# classifer.add(Dropout(0.3))\n",
    "#add the second hidden layer\n",
    "classifier.add(Dense(units=6, kernel_initializer='he_uniform',activation='relu'))\n",
    "\n",
    "#add the output leyer\n",
    "classifier.add(Dense(units=1, kernel_initializer='glorot_uniform',activation ='sigmoid'))\n",
    "\n",
    "#Compiling the ANN\n",
    "classifier.compile(optimizer='adam',loss='binary_crossentropy',metrics=['accuracy'])\n",
    "\n",
    "#fitting the ANN to the Training set\n",
    "model_history=classifier.fit(X_train,y_train,validation_split=0.33,batch_size=10 ,epochs=100)"
   ]
  },
  {
   "cell_type": "code",
   "execution_count": 14,
   "id": "76b41f3c",
   "metadata": {},
   "outputs": [
    {
     "name": "stdout",
     "output_type": "stream",
     "text": [
      "dict_keys(['loss', 'accuracy', 'val_loss', 'val_accuracy'])\n"
     ]
    }
   ],
   "source": [
    "print(model_history.history.keys())"
   ]
  },
  {
   "cell_type": "code",
   "execution_count": 17,
   "id": "e556c66f",
   "metadata": {},
   "outputs": [
    {
     "data": {
      "text/plain": [
       "[<matplotlib.lines.Line2D at 0x2b9b40a3198>]"
      ]
     },
     "execution_count": 17,
     "metadata": {},
     "output_type": "execute_result"
    },
    {
     "data": {
      "image/png": "[encoded data removed]",
      "text/plain": [
       "<Figure size 432x288 with 1 Axes>"
      ]
     },
     "metadata": {
      "needs_background": "light"
     },
     "output_type": "display_data"
    }
   ],
   "source": [
    "plt.plot(model_history.history['accuracy'])"
   ]
  },
  {
   "cell_type": "code",
   "execution_count": 18,
   "id": "cbf792f0",
   "metadata": {},
   "outputs": [
    {
     "data": {
      "text/plain": [
       "[<matplotlib.lines.Line2D at 0x2b9b6c51c88>]"
      ]
     },
     "execution_count": 18,
     "metadata": {},
     "output_type": "execute_result"
    },
    {
     "data": {
      "image/png": "[encoded data removed]",
      "text/plain": [
       "<Figure size 432x288 with 1 Axes>"
      ]
     },
     "metadata": {
      "needs_background": "light"
     },
     "output_type": "display_data"
    }
   ],
   "source": [
    "plt.plot(model_history.history['val_accuracy'])"
   ]
  },
  {
   "cell_type": "code",
   "execution_count": 19,
   "id": "16adfde6",
   "metadata": {},
   "outputs": [
    {
     "data": {
      "text/plain": [
       "[<matplotlib.lines.Line2D at 0x2b9b6cc8be0>]"
      ]
     },
     "execution_count": 19,
     "metadata": {},
     "output_type": "execute_result"
    },
    {
     "data": {
      "image/png": "[encoded data removed]",
      "text/plain": [
       "<Figure size 432x288 with 1 Axes>"
      ]
     },
     "metadata": {
      "needs_background": "light"
     },
     "output_type": "display_data"
    }
   ],
   "source": [
    "plt.plot(model_history.history['loss'])"
   ]
  },
  {
   "cell_type": "code",
   "execution_count": 29,
   "id": "9923acc9",
   "metadata": {},
   "outputs": [],
   "source": [
    "#making the prediction and evaluation the model\n"
   ]
  },
  {
   "cell_type": "code",
   "execution_count": 20,
   "id": "528ec2e7",
   "metadata": {},
   "outputs": [],
   "source": [
    "# predicting the test set results\n",
    "y_pred=classifier.predict(X_test)\n",
    "y_pred=(y_pred > 0.5 )\n"
   ]
  },
  {
   "cell_type": "code",
   "execution_count": 27,
   "id": "3ea6fb81",
   "metadata": {},
   "outputs": [
    {
     "data": {
      "text/plain": [
       "array([[1503,   92],\n",
       "       [ 190,  215]], dtype=int64)"
      ]
     },
     "execution_count": 27,
     "metadata": {},
     "output_type": "execute_result"
    }
   ],
   "source": [
    "#making the confusion matrix\n",
    "from sklearn.metrics import confusion_matrix\n",
    "cm= confusion_matrix(y_test,y_pred)\n",
    "cm"
   ]
  },
  {
   "cell_type": "code",
   "execution_count": 26,
   "id": "6637bf1c",
   "metadata": {},
   "outputs": [
    {
     "data": {
      "text/plain": [
       "0.859"
      ]
     },
     "execution_count": 26,
     "metadata": {},
     "output_type": "execute_result"
    }
   ],
   "source": [
    "#calculate the accuracy\n",
    "from sklearn.metrics import accuracy_score\n",
    "score=accuracy_score(y_pred,y_test)\n",
    "score"
   ]
  },
  {
   "cell_type": "code",
   "execution_count": null,
   "id": "421f1a78",
   "metadata": {},
   "outputs": [],
   "source": []
  }
 ],
 "metadata": {
  "kernelspec": {
   "display_name": "Python 3 (ipykernel)",
   "language": "python",
   "name": "python3"
  },
  "language_info": {
   "codemirror_mode": {
    "name": "ipython",
    "version": 3
   },
   "file_extension": ".py",
   "mimetype": "text/x-python",
   "name": "python",
   "nbconvert_exporter": "python",
   "pygments_lexer": "ipython3",
   "version": "3.7.1"
  }
 },
 "nbformat": 4,
 "nbformat_minor": 5
}
